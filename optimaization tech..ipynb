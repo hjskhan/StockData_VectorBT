{
 "cells": [
  {
   "cell_type": "code",
   "execution_count": 1,
   "id": "9b1ddcf1",
   "metadata": {},
   "outputs": [],
   "source": [
    "import pandas as pd\n",
    "import numpy as np\n",
    "import vectorbt as vbt\n",
    "import yfinance\n",
    "import datetime"
   ]
  },
  {
   "cell_type": "code",
   "execution_count": 3,
   "id": "99c09bcd",
   "metadata": {},
   "outputs": [],
   "source": [
    "end_date = datetime.datetime.now()\n",
    "start_date = end_date - datetime.timedelta(days = 2)"
   ]
  },
  {
   "cell_type": "code",
   "execution_count": 4,
   "id": "de03e132",
   "metadata": {},
   "outputs": [],
   "source": [
    "btc_price = vbt.YFData.download(\n",
    "    ['BTC-USD','ETH-USD'],\n",
    "    start = start_date,\n",
    "    end = end_date,\n",
    "    missing_index=['drop'],\n",
    "    interval = '1m'\n",
    "    ).get('Close')"
   ]
  },
  {
   "cell_type": "code",
   "execution_count": 5,
   "id": "df0988a4",
   "metadata": {},
   "outputs": [],
   "source": [
    "def custom_indicator(close, rsi_window=14, entry=30, exit=70):\n",
    "    rsi = vbt.RSI.run(close, window = rsi_window).rsi\n",
    "    trend = np.where(rsi>exit, -1, 0)\n",
    "    trend = np.where(rsi<entry, 1, trend)\n",
    "    return trend"
   ]
  },
  {
   "cell_type": "code",
   "execution_count": 7,
   "id": "679095d6",
   "metadata": {},
   "outputs": [],
   "source": [
    "ind = vbt.IndicatorFactory(\n",
    "        class_name= 'Combination',\n",
    "        short_name='comb',\n",
    "        input_names=['close'],\n",
    "        param_names=['rsi_window','entry','exit'],\n",
    "        output_names=['value']\n",
    "        ).from_apply_func(\n",
    "                custom_indicator,\n",
    "                rsi_window=14,\n",
    "                entry=30,\n",
    "                exit=70\n",
    "                )"
   ]
  },
  {
   "cell_type": "code",
   "execution_count": 10,
   "id": "83bb5b69",
   "metadata": {},
   "outputs": [],
   "source": [
    "res = ind.run(\n",
    "        btc_price,\n",
    "        rsi_window=np.arange(10,40, step=3, dtype=int),\n",
    "        entry=np.arange(10,40, step=4, dtype=int),\n",
    "        exit=np.arange(60,80, step=4, dtype=int),\n",
    "        param_product = True\n",
    "        )"
   ]
  },
  {
   "cell_type": "code",
   "execution_count": 11,
   "id": "7279ab35",
   "metadata": {},
   "outputs": [],
   "source": [
    "entries = res.value == 1.0\n",
    "exits = res.value == -1.0"
   ]
  },
  {
   "cell_type": "code",
   "execution_count": 12,
   "id": "345bf724",
   "metadata": {},
   "outputs": [],
   "source": [
    "pf = vbt.Portfolio.from_signals(btc_price,entries,exits)"
   ]
  },
  {
   "cell_type": "code",
   "execution_count": 13,
   "id": "4ec3705a",
   "metadata": {},
   "outputs": [],
   "source": [
    "returns = pf.total_return()"
   ]
  },
  {
   "cell_type": "code",
   "execution_count": 15,
   "id": "e0a46d77",
   "metadata": {},
   "outputs": [
    {
     "name": "stdout",
     "output_type": "stream",
     "text": [
      "0.023525474221192725\n",
      "(19, 10, 76, 'ETH-USD')\n"
     ]
    }
   ],
   "source": [
    "print(returns.max())\n",
    "print(returns.idxmax())"
   ]
  },
  {
   "cell_type": "markdown",
   "id": "50c05b76",
   "metadata": {},
   "source": [
    "##### Saving btc_price as csv file and then using it\n",
    "btc_price.to_csv('data01.csv')"
   ]
  },
  {
   "cell_type": "code",
   "execution_count": 17,
   "id": "d1ccedc7",
   "metadata": {},
   "outputs": [],
   "source": [
    "btc_price = pd.read_csv('data01.csv')"
   ]
  },
  {
   "cell_type": "code",
   "execution_count": 19,
   "id": "8e5bc6cd",
   "metadata": {},
   "outputs": [],
   "source": [
    "btc_price.set_index('Datetime',inplace=True)"
   ]
  },
  {
   "cell_type": "code",
   "execution_count": null,
   "id": "3a530f86",
   "metadata": {},
   "outputs": [],
   "source": []
  }
 ],
 "metadata": {
  "kernelspec": {
   "display_name": "Python 3 (ipykernel)",
   "language": "python",
   "name": "python3"
  },
  "language_info": {
   "codemirror_mode": {
    "name": "ipython",
    "version": 3
   },
   "file_extension": ".py",
   "mimetype": "text/x-python",
   "name": "python",
   "nbconvert_exporter": "python",
   "pygments_lexer": "ipython3",
   "version": "3.9.12"
  }
 },
 "nbformat": 4,
 "nbformat_minor": 5
}
