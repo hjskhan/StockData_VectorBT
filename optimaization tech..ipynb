{
 "cells": [
  {
   "cell_type": "markdown",
   "id": "2c060138",
   "metadata": {},
   "source": [
    "!pip install ta-lib\n",
    "!pip install numba"
   ]
  },
  {
   "cell_type": "code",
   "execution_count": 42,
   "id": "9b1ddcf1",
   "metadata": {},
   "outputs": [],
   "source": [
    "import pandas as pd\n",
    "import numpy as np\n",
    "import vectorbt as vbt\n",
    "import yfinance\n",
    "import datetime\n",
    "import talib\n",
    "import numba\n",
    "from numba import njit"
   ]
  },
  {
   "cell_type": "code",
   "execution_count": 43,
   "id": "99c09bcd",
   "metadata": {},
   "outputs": [],
   "source": [
    "end_date = datetime.datetime.now()\n",
    "start_date = end_date - datetime.timedelta(days = 2)"
   ]
  },
  {
   "cell_type": "code",
   "execution_count": 44,
   "id": "de03e132",
   "metadata": {},
   "outputs": [],
   "source": [
    "btc_price = vbt.YFData.download(\n",
    "    ['BTC-USD'],\n",
    "    start = start_date,\n",
    "    end = end_date,\n",
    "    missing_index=['drop'],\n",
    "    interval = '1m'\n",
    "    ).get('Close')"
   ]
  },
  {
   "cell_type": "code",
   "execution_count": 45,
   "id": "3f70fb47",
   "metadata": {},
   "outputs": [],
   "source": [
    "RSI = vbt.IndicatorFactory.from_talib('RSI')"
   ]
  },
  {
   "cell_type": "markdown",
   "id": "2e0cd134",
   "metadata": {},
   "source": [
    "##### The following way of implementing bactesters is 30%  faster than simply using the VBT"
   ]
  },
  {
   "cell_type": "code",
   "execution_count": 46,
   "id": "df0988a4",
   "metadata": {},
   "outputs": [],
   "source": [
    "@njit\n",
    "def produce_signal(rsi, entry, exit):\n",
    "    trend = np.where(rsi>exit, -1, 0)\n",
    "    trend = np.where(rsi<entry, 1, trend)\n",
    "    return trend\n",
    "\n",
    "def custom_indicator(close, rsi_window=14, entry=30, exit=70):\n",
    "#     rsi = vbt.RSI.run(close, window = rsi_window).rsi\n",
    "    rsi = RSI.run(close, rsi_window).real.to_numpy()\n",
    "    return produce_signal(rsi, entry, exit)"
   ]
  },
  {
   "cell_type": "code",
   "execution_count": 47,
   "id": "679095d6",
   "metadata": {},
   "outputs": [],
   "source": [
    "ind = vbt.IndicatorFactory(\n",
    "        class_name= 'Combination',\n",
    "        short_name='comb',\n",
    "        input_names=['close'],\n",
    "        param_names=['rsi_window','entry','exit'],\n",
    "        output_names=['value']\n",
    "        ).from_apply_func(\n",
    "                custom_indicator,\n",
    "                rsi_window=14,\n",
    "                entry=30,\n",
    "                exit=70\n",
    "                )"
   ]
  },
  {
   "cell_type": "code",
   "execution_count": 48,
   "id": "4ec3705a",
   "metadata": {},
   "outputs": [],
   "source": [
    "rsi_windows =np.arange(10,40, step=3, dtype=int),\n",
    "master_returns = []\n",
    "# use for loop to increase speed and decrease the ram load:\n",
    "for rsi_window in rsi_windows:\n",
    "    res = ind.run(\n",
    "            btc_price,\n",
    "            rsi_window=rsi_window,\n",
    "            entry=np.arange(10,40, step=4, dtype=int),\n",
    "            exit=np.arange(60,80, step=4, dtype=int),\n",
    "            param_product = True\n",
    "            )\n",
    "    entries = res.value == 1.0\n",
    "    exits = res.value == -1.0\n",
    "    pf = vbt.Portfolio.from_signals(btc_price,entries,exits)\n",
    "    master_returns.append(pf.total_return())\n",
    "returns = pd.concat(master_returns)"
   ]
  },
  {
   "cell_type": "code",
   "execution_count": 49,
   "id": "e0a46d77",
   "metadata": {},
   "outputs": [
    {
     "name": "stdout",
     "output_type": "stream",
     "text": [
      "0.028256079987327213\n",
      "(28, 34, 60)\n"
     ]
    }
   ],
   "source": [
    "print(returns.max())\n",
    "print(returns.idxmax())"
   ]
  },
  {
   "cell_type": "markdown",
   "id": "ce79e3d9",
   "metadata": {},
   "source": [
    "##### Saving btc_price as csv file and then using it\n",
    "btc_price.to_csv('data01.csv')\n",
    "\n",
    "btc_price = pd.read_csv('data01.csv')\n",
    "\n",
    "btc_price.set_index('Datetime',inplace=True)"
   ]
  },
  {
   "cell_type": "code",
   "execution_count": null,
   "id": "3a530f86",
   "metadata": {},
   "outputs": [],
   "source": []
  }
 ],
 "metadata": {
  "kernelspec": {
   "display_name": "Python 3 (ipykernel)",
   "language": "python",
   "name": "python3"
  },
  "language_info": {
   "codemirror_mode": {
    "name": "ipython",
    "version": 3
   },
   "file_extension": ".py",
   "mimetype": "text/x-python",
   "name": "python",
   "nbconvert_exporter": "python",
   "pygments_lexer": "ipython3",
   "version": "3.9.12"
  }
 },
 "nbformat": 4,
 "nbformat_minor": 5
}
