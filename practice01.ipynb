{
 "cells": [
  {
   "cell_type": "markdown",
   "metadata": {},
   "source": [
    "!pip install vectorbt\n",
    "!pip install yfinance --user"
   ]
  },
  {
   "cell_type": "code",
   "execution_count": 65,
   "metadata": {},
   "outputs": [],
   "source": [
    "import vectorbt as vbt\n",
    "import yfinance\n",
    "import datetime"
   ]
  },
  {
   "cell_type": "code",
   "execution_count": 66,
   "metadata": {},
   "outputs": [],
   "source": [
    "end_date = datetime.datetime.now()\n",
    "start_date = end_date - datetime.timedelta(days = 3)"
   ]
  },
  {
   "cell_type": "code",
   "execution_count": 67,
   "metadata": {},
   "outputs": [
    {
     "name": "stderr",
     "output_type": "stream",
     "text": [
      "C:\\Users\\HP\\anaconda3\\lib\\site-packages\\vectorbt\\data\\base.py:527: UserWarning:\n",
      "\n",
      "Symbols have mismatching index. Dropping missing data points.\n",
      "\n"
     ]
    }
   ],
   "source": [
    "btc_price = vbt.YFData.download(\n",
    "    ['BTC-USD','ETH-USD','XMR-USD','ADA-USD'],\n",
    "    interval = '1m',\n",
    "    start = start_date,\n",
    "    end = end_date,\n",
    "    missing_index = 'drop').get('Close')"
   ]
  },
  {
   "cell_type": "code",
   "execution_count": 68,
   "metadata": {},
   "outputs": [
    {
     "data": {
      "text/html": [
       "<div>\n",
       "<style scoped>\n",
       "    .dataframe tbody tr th:only-of-type {\n",
       "        vertical-align: middle;\n",
       "    }\n",
       "\n",
       "    .dataframe tbody tr th {\n",
       "        vertical-align: top;\n",
       "    }\n",
       "\n",
       "    .dataframe thead th {\n",
       "        text-align: right;\n",
       "    }\n",
       "</style>\n",
       "<table border=\"1\" class=\"dataframe\">\n",
       "  <thead>\n",
       "    <tr style=\"text-align: right;\">\n",
       "      <th>symbol</th>\n",
       "      <th>BTC-USD</th>\n",
       "      <th>ETH-USD</th>\n",
       "      <th>XMR-USD</th>\n",
       "      <th>ADA-USD</th>\n",
       "    </tr>\n",
       "    <tr>\n",
       "      <th>Datetime</th>\n",
       "      <th></th>\n",
       "      <th></th>\n",
       "      <th></th>\n",
       "      <th></th>\n",
       "    </tr>\n",
       "  </thead>\n",
       "  <tbody>\n",
       "    <tr>\n",
       "      <th>2023-09-28 05:01:00+00:00</th>\n",
       "      <td>26424.656250</td>\n",
       "      <td>1608.688721</td>\n",
       "      <td>146.687149</td>\n",
       "      <td>0.244019</td>\n",
       "    </tr>\n",
       "    <tr>\n",
       "      <th>2023-09-28 05:02:00+00:00</th>\n",
       "      <td>26431.474609</td>\n",
       "      <td>1609.091675</td>\n",
       "      <td>146.693954</td>\n",
       "      <td>0.244029</td>\n",
       "    </tr>\n",
       "    <tr>\n",
       "      <th>2023-09-28 05:03:00+00:00</th>\n",
       "      <td>26430.757812</td>\n",
       "      <td>1608.636108</td>\n",
       "      <td>146.691223</td>\n",
       "      <td>0.244041</td>\n",
       "    </tr>\n",
       "    <tr>\n",
       "      <th>2023-09-28 05:04:00+00:00</th>\n",
       "      <td>26424.164062</td>\n",
       "      <td>1608.333984</td>\n",
       "      <td>146.709244</td>\n",
       "      <td>0.244089</td>\n",
       "    </tr>\n",
       "    <tr>\n",
       "      <th>2023-09-28 05:05:00+00:00</th>\n",
       "      <td>26421.144531</td>\n",
       "      <td>1607.798218</td>\n",
       "      <td>146.690765</td>\n",
       "      <td>0.244088</td>\n",
       "    </tr>\n",
       "  </tbody>\n",
       "</table>\n",
       "</div>"
      ],
      "text/plain": [
       "symbol                          BTC-USD      ETH-USD     XMR-USD   ADA-USD\n",
       "Datetime                                                                  \n",
       "2023-09-28 05:01:00+00:00  26424.656250  1608.688721  146.687149  0.244019\n",
       "2023-09-28 05:02:00+00:00  26431.474609  1609.091675  146.693954  0.244029\n",
       "2023-09-28 05:03:00+00:00  26430.757812  1608.636108  146.691223  0.244041\n",
       "2023-09-28 05:04:00+00:00  26424.164062  1608.333984  146.709244  0.244089\n",
       "2023-09-28 05:05:00+00:00  26421.144531  1607.798218  146.690765  0.244088"
      ]
     },
     "execution_count": 68,
     "metadata": {},
     "output_type": "execute_result"
    }
   ],
   "source": [
    "btc_price.head()"
   ]
  },
  {
   "cell_type": "code",
   "execution_count": 69,
   "metadata": {},
   "outputs": [],
   "source": [
    "# RSI - Relative Strength Index\n",
    "rsi = vbt.RSI.run(btc_price, window=14)"
   ]
  },
  {
   "cell_type": "code",
   "execution_count": 70,
   "metadata": {},
   "outputs": [
    {
     "name": "stdout",
     "output_type": "stream",
     "text": [
      "rsi_window                        14                                 \n",
      "symbol                       BTC-USD    ETH-USD    XMR-USD    ADA-USD\n",
      "Datetime                                                             \n",
      "2023-09-28 05:01:00+00:00        NaN        NaN        NaN        NaN\n",
      "2023-09-28 05:02:00+00:00        NaN        NaN        NaN        NaN\n",
      "2023-09-28 05:03:00+00:00        NaN        NaN        NaN        NaN\n",
      "2023-09-28 05:04:00+00:00        NaN        NaN        NaN        NaN\n",
      "2023-09-28 05:05:00+00:00        NaN        NaN        NaN        NaN\n",
      "...                              ...        ...        ...        ...\n",
      "2023-10-01 04:53:00+00:00  72.711186  80.982217  41.331112  92.503550\n",
      "2023-10-01 04:54:00+00:00  71.905264  75.850673  32.495473  88.669468\n",
      "2023-10-01 04:55:00+00:00  70.605404  76.568754  17.216802  67.444508\n",
      "2023-10-01 04:56:00+00:00  65.069879  76.952593  23.391963  65.166275\n",
      "2023-10-01 04:57:00+00:00  75.206681  78.328264  21.723214  60.243788\n",
      "\n",
      "[4296 rows x 4 columns]\n"
     ]
    }
   ],
   "source": [
    "print(rsi.rsi)"
   ]
  },
  {
   "cell_type": "code",
   "execution_count": 71,
   "metadata": {},
   "outputs": [],
   "source": [
    "entries = rsi.rsi_crossed_below(30)\n",
    "exits = rsi.rsi_crossed_above(30)"
   ]
  },
  {
   "cell_type": "code",
   "execution_count": 78,
   "metadata": {},
   "outputs": [],
   "source": [
    "pf = vbt.Portfolio.from_signals(btc_price,entries,exits)"
   ]
  },
  {
   "cell_type": "code",
   "execution_count": 79,
   "metadata": {},
   "outputs": [
    {
     "name": "stderr",
     "output_type": "stream",
     "text": [
      "C:\\Users\\HP\\anaconda3\\lib\\site-packages\\vectorbt\\generic\\stats_builder.py:396: UserWarning:\n",
      "\n",
      "Metric 'sharpe_ratio' requires frequency to be set\n",
      "\n",
      "C:\\Users\\HP\\anaconda3\\lib\\site-packages\\vectorbt\\generic\\stats_builder.py:396: UserWarning:\n",
      "\n",
      "Metric 'calmar_ratio' requires frequency to be set\n",
      "\n",
      "C:\\Users\\HP\\anaconda3\\lib\\site-packages\\vectorbt\\generic\\stats_builder.py:396: UserWarning:\n",
      "\n",
      "Metric 'omega_ratio' requires frequency to be set\n",
      "\n",
      "C:\\Users\\HP\\anaconda3\\lib\\site-packages\\vectorbt\\generic\\stats_builder.py:396: UserWarning:\n",
      "\n",
      "Metric 'sortino_ratio' requires frequency to be set\n",
      "\n",
      "C:\\Users\\HP\\AppData\\Local\\Temp\\ipykernel_2824\\3705677322.py:1: UserWarning:\n",
      "\n",
      "Object has multiple columns. Aggregating using <function mean at 0x00000238D2A6EAF0>. Pass column to select a single column/group.\n",
      "\n"
     ]
    },
    {
     "data": {
      "text/plain": [
       "Start                         2023-09-28 05:01:00+00:00\n",
       "End                           2023-10-01 04:57:00+00:00\n",
       "Period                                             4296\n",
       "Start Value                                       100.0\n",
       "End Value                                     97.448326\n",
       "Total Return [%]                              -2.551674\n",
       "Benchmark Return [%]                           2.762825\n",
       "Max Gross Exposure [%]                            100.0\n",
       "Total Fees Paid                                     0.0\n",
       "Max Drawdown [%]                               2.975945\n",
       "Max Drawdown Duration                            3796.5\n",
       "Total Trades                                     134.75\n",
       "Total Closed Trades                               134.5\n",
       "Total Open Trades                                  0.25\n",
       "Open Trade PnL                                 0.002792\n",
       "Win Rate [%]                                  57.101628\n",
       "Best Trade [%]                                  0.15419\n",
       "Worst Trade [%]                               -0.655037\n",
       "Avg Winning Trade [%]                          0.028863\n",
       "Avg Losing Trade [%]                          -0.083934\n",
       "Avg Winning Trade Duration                      2.92062\n",
       "Avg Losing Trade Duration                     11.368265\n",
       "Profit Factor                                  0.541916\n",
       "Expectancy                                    -0.020186\n",
       "Name: agg_func_mean, dtype: object"
      ]
     },
     "execution_count": 79,
     "metadata": {},
     "output_type": "execute_result"
    }
   ],
   "source": [
    "pf.stats()"
   ]
  },
  {
   "cell_type": "markdown",
   "metadata": {},
   "source": [
    "pf.plot().show()"
   ]
  },
  {
   "cell_type": "code",
   "execution_count": null,
   "metadata": {},
   "outputs": [],
   "source": []
  }
 ],
 "metadata": {
  "kernelspec": {
   "display_name": "Python 3 (ipykernel)",
   "language": "python",
   "name": "python3"
  },
  "language_info": {
   "codemirror_mode": {
    "name": "ipython",
    "version": 3
   },
   "file_extension": ".py",
   "mimetype": "text/x-python",
   "name": "python",
   "nbconvert_exporter": "python",
   "pygments_lexer": "ipython3",
   "version": "3.9.12"
  }
 },
 "nbformat": 4,
 "nbformat_minor": 2
}
