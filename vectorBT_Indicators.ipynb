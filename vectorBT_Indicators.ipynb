{
 "cells": [
  {
   "cell_type": "code",
   "execution_count": 16,
   "id": "b5d17e65",
   "metadata": {},
   "outputs": [],
   "source": [
    "import vectorbt as vbt\n",
    "import yfinance\n",
    "import datetime\n",
    "import pandas as pd\n",
    "import numpy as np"
   ]
  },
  {
   "cell_type": "code",
   "execution_count": 111,
   "id": "6824fbcc",
   "metadata": {},
   "outputs": [],
   "source": [
    "end_time = datetime.datetime.now()\n",
    "start_time = end_time - datetime.timedelta(days=2)"
   ]
  },
  {
   "cell_type": "code",
   "execution_count": 112,
   "id": "83fa82a5",
   "metadata": {},
   "outputs": [],
   "source": [
    "btc_price = vbt.YFData.download(\n",
    "    'ETH-USD',\n",
    "    missing_index = 'drop',\n",
    "    start = start_time,\n",
    "    end = end_time,\n",
    "    interval= \"1m\").get('Close')"
   ]
  },
  {
   "cell_type": "code",
   "execution_count": 113,
   "id": "efb1cf82",
   "metadata": {},
   "outputs": [
    {
     "data": {
      "text/plain": [
       "Datetime\n",
       "2023-10-01 05:25:00+00:00    1678.689941\n",
       "2023-10-01 05:26:00+00:00    1678.640625\n",
       "2023-10-01 05:27:00+00:00    1678.856812\n",
       "2023-10-01 05:28:00+00:00    1679.246094\n",
       "2023-10-01 05:29:00+00:00    1679.428589\n",
       "Name: Close, dtype: float64"
      ]
     },
     "execution_count": 113,
     "metadata": {},
     "output_type": "execute_result"
    }
   ],
   "source": [
    "btc_price.head()"
   ]
  },
  {
   "cell_type": "code",
   "execution_count": 21,
   "id": "ccff0850",
   "metadata": {},
   "outputs": [],
   "source": [
    "def custom_indicator(close,window=14):\n",
    "    rsi = vbt.RSI.run(close,window=window)\n",
    "    return rsi.rsi"
   ]
  },
  {
   "cell_type": "code",
   "execution_count": 23,
   "id": "d689f612",
   "metadata": {},
   "outputs": [],
   "source": [
    "ind = vbt.IndicatorFactory(\n",
    "    class_name = \"Combination\",\n",
    "    short_name = 'comb',\n",
    "    input_names= ['close'],\n",
    "    param_names=  ['window'],\n",
    "    output_names = ['value']\n",
    "    ).from_apply_func(\n",
    "                custom_indicator,\n",
    "                window = 14\n",
    "                )"
   ]
  },
  {
   "cell_type": "code",
   "execution_count": 24,
   "id": "390c0267",
   "metadata": {},
   "outputs": [],
   "source": [
    "res = ind.run(\n",
    "    btc_price,\n",
    "    window = 21)"
   ]
  },
  {
   "cell_type": "code",
   "execution_count": 25,
   "id": "d5774908",
   "metadata": {},
   "outputs": [
    {
     "data": {
      "text/plain": [
       "Datetime\n",
       "2023-09-30 05:16:00+00:00          NaN\n",
       "2023-09-30 05:17:00+00:00          NaN\n",
       "2023-09-30 05:18:00+00:00          NaN\n",
       "2023-09-30 05:19:00+00:00          NaN\n",
       "2023-09-30 05:20:00+00:00          NaN\n",
       "                               ...    \n",
       "2023-10-02 05:08:00+00:00    44.328440\n",
       "2023-10-02 05:09:00+00:00    50.846761\n",
       "2023-10-02 05:10:00+00:00    52.700563\n",
       "2023-10-02 05:11:00+00:00    54.149025\n",
       "2023-10-02 05:12:00+00:00    46.876559\n",
       "Name: (21, Close), Length: 2869, dtype: float64"
      ]
     },
     "execution_count": 25,
     "metadata": {},
     "output_type": "execute_result"
    }
   ],
   "source": [
    "res.value"
   ]
  },
  {
   "cell_type": "code",
   "execution_count": 42,
   "id": "4380b7a6",
   "metadata": {},
   "outputs": [],
   "source": [
    "def custom_indicator(close, rsi_window = 14, ma_window= 50):\n",
    "    rsi = vbt.RSI.run(close, window = rsi_window).rsi\n",
    "    ma = vbt.MA.run(close, ma_window).ma\n",
    "    return rsi"
   ]
  },
  {
   "cell_type": "code",
   "execution_count": 43,
   "id": "956b9959",
   "metadata": {},
   "outputs": [],
   "source": [
    "ind = vbt.IndicatorFactory(\n",
    "    class_name='Combination',\n",
    "    short_name='comb',\n",
    "    input_names=['close'],\n",
    "    param_names=['rsi_window','ma_window'],\n",
    "    output_names=['value']\n",
    "    ).from_apply_func(\n",
    "            custom_indicator,\n",
    "            rsi_window = 14,\n",
    "            ma_window = 50\n",
    "            )"
   ]
  },
  {
   "cell_type": "code",
   "execution_count": 44,
   "id": "432f35f5",
   "metadata": {},
   "outputs": [],
   "source": [
    "res = ind.run(\n",
    "    btc_price,\n",
    "    rsi_window = 21,\n",
    "    ma_window = 50)"
   ]
  },
  {
   "cell_type": "code",
   "execution_count": 47,
   "id": "4f42ae31",
   "metadata": {},
   "outputs": [
    {
     "name": "stdout",
     "output_type": "stream",
     "text": [
      "Datetime\n",
      "2023-09-30 05:16:00+00:00          NaN\n",
      "2023-09-30 05:17:00+00:00          NaN\n",
      "2023-09-30 05:18:00+00:00          NaN\n",
      "2023-09-30 05:19:00+00:00          NaN\n",
      "2023-09-30 05:20:00+00:00          NaN\n",
      "                               ...    \n",
      "2023-10-02 05:08:00+00:00    44.328440\n",
      "2023-10-02 05:09:00+00:00    50.846761\n",
      "2023-10-02 05:10:00+00:00    52.700563\n",
      "2023-10-02 05:11:00+00:00    54.149025\n",
      "2023-10-02 05:12:00+00:00    46.876559\n",
      "Name: (21, 50, Close), Length: 2869, dtype: float64\n"
     ]
    }
   ],
   "source": [
    "print(res.value)"
   ]
  },
  {
   "cell_type": "code",
   "execution_count": 54,
   "id": "df917e09",
   "metadata": {},
   "outputs": [],
   "source": [
    "def custom_indicator(close, rsi_window = 14, ma_window= 50):\n",
    "    rsi = vbt.RSI.run(close, window = rsi_window).rsi.to_numpy()\n",
    "    ma = vbt.MA.run(close, ma_window).ma.to_numpy()\n",
    "    trend = np.where(rsi > 70, -1, 0)\n",
    "    trend = np.where(rsi < 30, 1, trend)\n",
    "    return trend"
   ]
  },
  {
   "cell_type": "code",
   "execution_count": 55,
   "id": "3da91e28",
   "metadata": {},
   "outputs": [],
   "source": [
    "ind = vbt.IndicatorFactory(\n",
    "    class_name='Combination',\n",
    "    short_name='comb',\n",
    "    input_names=['close'],\n",
    "    param_names=['rsi_window','ma_window'],\n",
    "    output_names=['value']\n",
    "    ).from_apply_func(\n",
    "            custom_indicator,\n",
    "            rsi_window = 14,\n",
    "            ma_window = 50\n",
    "            )"
   ]
  },
  {
   "cell_type": "code",
   "execution_count": 56,
   "id": "a1aed03c",
   "metadata": {},
   "outputs": [],
   "source": [
    "res = ind.run(\n",
    "    btc_price,\n",
    "    rsi_window = 21,\n",
    "    ma_window = 50)"
   ]
  },
  {
   "cell_type": "code",
   "execution_count": 64,
   "id": "093be337",
   "metadata": {},
   "outputs": [
    {
     "name": "stdout",
     "output_type": "stream",
     "text": [
      "[ 0 -1  1]\n"
     ]
    }
   ],
   "source": [
    "print(res.value.unique())"
   ]
  },
  {
   "cell_type": "code",
   "execution_count": 65,
   "id": "c1ef6cd1",
   "metadata": {},
   "outputs": [],
   "source": [
    "def custom_indicator(close, rsi_window = 14, ma_window= 50):\n",
    "    rsi = vbt.RSI.run(close, window = rsi_window).rsi.to_numpy()\n",
    "    ma = vbt.MA.run(close, ma_window).ma.to_numpy()\n",
    "    trend = np.where(rsi > 70, -1, 0)\n",
    "    trend = np.where((rsi < 30) & (close < ma), 1, trend)\n",
    "    return trend"
   ]
  },
  {
   "cell_type": "code",
   "execution_count": 66,
   "id": "196976ae",
   "metadata": {},
   "outputs": [],
   "source": [
    "ind = vbt.IndicatorFactory(\n",
    "    class_name='Combination',\n",
    "    short_name='comb',\n",
    "    input_names=['close'],\n",
    "    param_names=['rsi_window','ma_window'],\n",
    "    output_names=['value']\n",
    "    ).from_apply_func(\n",
    "            custom_indicator,\n",
    "            rsi_window = 14,\n",
    "            ma_window = 50\n",
    "            )"
   ]
  },
  {
   "cell_type": "code",
   "execution_count": 67,
   "id": "feb87a07",
   "metadata": {},
   "outputs": [
    {
     "name": "stdout",
     "output_type": "stream",
     "text": [
      "[ 0 -1  1]\n"
     ]
    }
   ],
   "source": [
    "res = ind.run(\n",
    "    btc_price,\n",
    "    rsi_window = 21,\n",
    "    ma_window = 50)\n",
    "\n",
    "print(res.value.unique())"
   ]
  },
  {
   "cell_type": "code",
   "execution_count": 68,
   "id": "3e5eb8d3",
   "metadata": {},
   "outputs": [],
   "source": [
    "entries = res.value == 1.0\n",
    "exits = res.value == -1.0"
   ]
  },
  {
   "cell_type": "code",
   "execution_count": 69,
   "id": "3809d3df",
   "metadata": {},
   "outputs": [],
   "source": [
    "pf = vbt.Portfolio.from_signals(btc_price,entries,exits)"
   ]
  },
  {
   "cell_type": "code",
   "execution_count": 71,
   "id": "f8693710",
   "metadata": {},
   "outputs": [
    {
     "name": "stderr",
     "output_type": "stream",
     "text": [
      "C:\\Users\\HP\\anaconda3\\lib\\site-packages\\vectorbt\\generic\\stats_builder.py:396: UserWarning: Metric 'sharpe_ratio' requires frequency to be set\n",
      "  warnings.warn(warning_message)\n",
      "C:\\Users\\HP\\anaconda3\\lib\\site-packages\\vectorbt\\generic\\stats_builder.py:396: UserWarning: Metric 'calmar_ratio' requires frequency to be set\n",
      "  warnings.warn(warning_message)\n",
      "C:\\Users\\HP\\anaconda3\\lib\\site-packages\\vectorbt\\generic\\stats_builder.py:396: UserWarning: Metric 'omega_ratio' requires frequency to be set\n",
      "  warnings.warn(warning_message)\n",
      "C:\\Users\\HP\\anaconda3\\lib\\site-packages\\vectorbt\\generic\\stats_builder.py:396: UserWarning: Metric 'sortino_ratio' requires frequency to be set\n",
      "  warnings.warn(warning_message)\n"
     ]
    },
    {
     "data": {
      "text/plain": [
       "Start                         2023-09-30 05:16:00+00:00\n",
       "End                           2023-10-02 05:12:00+00:00\n",
       "Period                                             2869\n",
       "Start Value                                       100.0\n",
       "End Value                                    100.294937\n",
       "Total Return [%]                               0.294937\n",
       "Benchmark Return [%]                           3.236058\n",
       "Max Gross Exposure [%]                            100.0\n",
       "Total Fees Paid                                     0.0\n",
       "Max Drawdown [%]                               0.998873\n",
       "Max Drawdown Duration                            1084.0\n",
       "Total Trades                                         24\n",
       "Total Closed Trades                                  23\n",
       "Total Open Trades                                     1\n",
       "Open Trade PnL                                -0.068254\n",
       "Win Rate [%]                                  65.217391\n",
       "Best Trade [%]                                 0.192095\n",
       "Worst Trade [%]                               -0.363336\n",
       "Avg Winning Trade [%]                          0.091237\n",
       "Avg Losing Trade [%]                          -0.125499\n",
       "Avg Winning Trade Duration                    55.333333\n",
       "Avg Losing Trade Duration                        66.625\n",
       "Profit Factor                                   1.35973\n",
       "Expectancy                                     0.015791\n",
       "dtype: object"
      ]
     },
     "execution_count": 71,
     "metadata": {},
     "output_type": "execute_result"
    }
   ],
   "source": [
    "pf.stats()"
   ]
  },
  {
   "cell_type": "code",
   "execution_count": 117,
   "id": "12028e63",
   "metadata": {},
   "outputs": [],
   "source": [
    "btc_price = vbt.YFData.download(\n",
    "    ['BTC-USD','ETH-USD'],\n",
    "    missing_index = 'drop',\n",
    "    start = start_time,\n",
    "    end = end_time,\n",
    "    interval= \"1m\").get('Close')"
   ]
  },
  {
   "cell_type": "code",
   "execution_count": 128,
   "id": "945f912a",
   "metadata": {},
   "outputs": [],
   "source": [
    "def custom_indicator(close, rsi_window = 14, ma_window= 50):\n",
    "    close_5m = close.resample('5T').last()\n",
    "    rsi = vbt.RSI.run(close_5m, window = rsi_window).rsi\n",
    "    rsi, _ = rsi.align(close,\n",
    "                       broadcast_axis =0,\n",
    "                       method = 'ffill',\n",
    "                       join= 'right')\n",
    "    close = close.to_numpy()\n",
    "    rsi = rsi.to_numpy()\n",
    "    ma = vbt.MA.run(close, ma_window).ma.to_numpy()\n",
    "    trend = np.where(rsi > 70, -1, 0)\n",
    "    trend = np.where((rsi < 30) & (close < ma), 1, trend)\n",
    "    return trend"
   ]
  },
  {
   "cell_type": "code",
   "execution_count": 129,
   "id": "f9d6fb76",
   "metadata": {},
   "outputs": [],
   "source": [
    "ind = vbt.IndicatorFactory(\n",
    "    class_name='Combination',\n",
    "    short_name='comb',\n",
    "    input_names=['close'],\n",
    "    param_names=['rsi_window','ma_window'],\n",
    "    output_names=['value']\n",
    "    ).from_apply_func(\n",
    "            custom_indicator,\n",
    "            rsi_window = 14,\n",
    "            ma_window = 50,\n",
    "            keep_pd = True\n",
    "            )"
   ]
  },
  {
   "cell_type": "code",
   "execution_count": 130,
   "id": "96398ee8",
   "metadata": {},
   "outputs": [],
   "source": [
    "res = ind.run(\n",
    "    btc_price,\n",
    "    rsi_window = 21,\n",
    "    ma_window = 50)"
   ]
  },
  {
   "cell_type": "code",
   "execution_count": 131,
   "id": "3a44576e",
   "metadata": {},
   "outputs": [
    {
     "data": {
      "text/html": [
       "<div>\n",
       "<style scoped>\n",
       "    .dataframe tbody tr th:only-of-type {\n",
       "        vertical-align: middle;\n",
       "    }\n",
       "\n",
       "    .dataframe tbody tr th {\n",
       "        vertical-align: top;\n",
       "    }\n",
       "\n",
       "    .dataframe thead tr th {\n",
       "        text-align: left;\n",
       "    }\n",
       "\n",
       "    .dataframe thead tr:last-of-type th {\n",
       "        text-align: right;\n",
       "    }\n",
       "</style>\n",
       "<table border=\"1\" class=\"dataframe\">\n",
       "  <thead>\n",
       "    <tr>\n",
       "      <th>comb_rsi_window</th>\n",
       "      <th colspan=\"2\" halign=\"left\">21</th>\n",
       "    </tr>\n",
       "    <tr>\n",
       "      <th>comb_ma_window</th>\n",
       "      <th colspan=\"2\" halign=\"left\">50</th>\n",
       "    </tr>\n",
       "    <tr>\n",
       "      <th>symbol</th>\n",
       "      <th>BTC-USD</th>\n",
       "      <th>ETH-USD</th>\n",
       "    </tr>\n",
       "    <tr>\n",
       "      <th>Datetime</th>\n",
       "      <th></th>\n",
       "      <th></th>\n",
       "    </tr>\n",
       "  </thead>\n",
       "  <tbody>\n",
       "    <tr>\n",
       "      <th>2023-10-01 05:25:00+00:00</th>\n",
       "      <td>0</td>\n",
       "      <td>0</td>\n",
       "    </tr>\n",
       "    <tr>\n",
       "      <th>2023-10-01 05:26:00+00:00</th>\n",
       "      <td>0</td>\n",
       "      <td>0</td>\n",
       "    </tr>\n",
       "    <tr>\n",
       "      <th>2023-10-01 05:27:00+00:00</th>\n",
       "      <td>0</td>\n",
       "      <td>0</td>\n",
       "    </tr>\n",
       "    <tr>\n",
       "      <th>2023-10-01 05:28:00+00:00</th>\n",
       "      <td>0</td>\n",
       "      <td>0</td>\n",
       "    </tr>\n",
       "    <tr>\n",
       "      <th>2023-10-01 05:29:00+00:00</th>\n",
       "      <td>0</td>\n",
       "      <td>0</td>\n",
       "    </tr>\n",
       "    <tr>\n",
       "      <th>...</th>\n",
       "      <td>...</td>\n",
       "      <td>...</td>\n",
       "    </tr>\n",
       "    <tr>\n",
       "      <th>2023-10-03 05:19:00+00:00</th>\n",
       "      <td>0</td>\n",
       "      <td>0</td>\n",
       "    </tr>\n",
       "    <tr>\n",
       "      <th>2023-10-03 05:20:00+00:00</th>\n",
       "      <td>0</td>\n",
       "      <td>0</td>\n",
       "    </tr>\n",
       "    <tr>\n",
       "      <th>2023-10-03 05:21:00+00:00</th>\n",
       "      <td>0</td>\n",
       "      <td>0</td>\n",
       "    </tr>\n",
       "    <tr>\n",
       "      <th>2023-10-03 05:22:00+00:00</th>\n",
       "      <td>0</td>\n",
       "      <td>0</td>\n",
       "    </tr>\n",
       "    <tr>\n",
       "      <th>2023-10-03 05:23:00+00:00</th>\n",
       "      <td>0</td>\n",
       "      <td>0</td>\n",
       "    </tr>\n",
       "  </tbody>\n",
       "</table>\n",
       "<p>2874 rows × 2 columns</p>\n",
       "</div>"
      ],
      "text/plain": [
       "comb_rsi_window                21        \n",
       "comb_ma_window                 50        \n",
       "symbol                    BTC-USD ETH-USD\n",
       "Datetime                                 \n",
       "2023-10-01 05:25:00+00:00       0       0\n",
       "2023-10-01 05:26:00+00:00       0       0\n",
       "2023-10-01 05:27:00+00:00       0       0\n",
       "2023-10-01 05:28:00+00:00       0       0\n",
       "2023-10-01 05:29:00+00:00       0       0\n",
       "...                           ...     ...\n",
       "2023-10-03 05:19:00+00:00       0       0\n",
       "2023-10-03 05:20:00+00:00       0       0\n",
       "2023-10-03 05:21:00+00:00       0       0\n",
       "2023-10-03 05:22:00+00:00       0       0\n",
       "2023-10-03 05:23:00+00:00       0       0\n",
       "\n",
       "[2874 rows x 2 columns]"
      ]
     },
     "execution_count": 131,
     "metadata": {},
     "output_type": "execute_result"
    }
   ],
   "source": [
    "res.value"
   ]
  },
  {
   "cell_type": "code",
   "execution_count": 132,
   "id": "3c1bff49",
   "metadata": {},
   "outputs": [
    {
     "name": "stdout",
     "output_type": "stream",
     "text": [
      "comb_rsi_window  comb_ma_window  symbol \n",
      "21               50              BTC-USD   -0.003428\n",
      "                                 ETH-USD   -0.027500\n",
      "Name: total_return, dtype: float64\n"
     ]
    }
   ],
   "source": [
    "entries = res.value == 1.0\n",
    "exits = res.value ==-1.0\n",
    "pf = vbt.Portfolio.from_signals(btc_price,entries, exits)\n",
    "print(pf.total_return())"
   ]
  },
  {
   "cell_type": "code",
   "execution_count": null,
   "id": "33595c61",
   "metadata": {},
   "outputs": [],
   "source": [
    " "
   ]
  }
 ],
 "metadata": {
  "kernelspec": {
   "display_name": "Python 3 (ipykernel)",
   "language": "python",
   "name": "python3"
  },
  "language_info": {
   "codemirror_mode": {
    "name": "ipython",
    "version": 3
   },
   "file_extension": ".py",
   "mimetype": "text/x-python",
   "name": "python",
   "nbconvert_exporter": "python",
   "pygments_lexer": "ipython3",
   "version": "3.9.12"
  }
 },
 "nbformat": 4,
 "nbformat_minor": 5
}
